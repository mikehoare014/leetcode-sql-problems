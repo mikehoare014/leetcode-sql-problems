{
 "cells": [
  {
   "cell_type": "markdown",
   "metadata": {},
   "source": [
    "# 607. Sales Person\n",
    "\n",
    "Leetcode Problem Link - https://leetcode.com/problems/sales-person/\n",
    "\n",
    "__Solution:__ Oracle"
   ]
  },
  {
   "cell_type": "code",
   "execution_count": null,
   "metadata": {
    "vscode": {
     "languageId": "sql"
    }
   },
   "outputs": [],
   "source": [
    "SELECT DISTINCT name\n",
    "FROM salesperson\n",
    "WHERE name NOT IN \n",
    "-- Salespersons with sales to company \"RED\"\n",
    "(SELECT s.name\n",
    "FROM orders o\n",
    "JOIN salesperson s on s.sales_id = o.sales_id\n",
    "JOIN company c on c.com_id = o.com_id\n",
    "WHERE c.name = 'RED'); \n",
    "         "
   ]
  },
  {
   "cell_type": "markdown",
   "metadata": {},
   "source": [
    "## Explantation:\n",
    "This was an inverse logic problem where instead of directly finding all salepersons with no sales to company \"RED\", you first have to find what salespersons did have sales to company \"RED\" and then exclude thosee salesperson from all salesperson. This is because the relationship between salesperson and company is not __mutually exclusive__. A salesperson can sell to company \"YELLOW\" and \"RED\". Hence, to find all saleperson without any sales related to company RED, simply find all the salepersons with sales to RED and then exclude them from the total list. \n",
    "\n",
    "Unlike a lot of solutions, I did add the DISTINCT keyword because for this solution to scale up, the keyword is need because there could be reperated names. \n",
    "\n",
    "## Takeaways:\n",
    "As a best practice, it is very valuable to critically think about the relationships between the data before diving into any sql code. I firrst tried to find the solutionn directly, but ended up wasting sometime. \n",
    "\n",
    "Therefore, in future problems, I want to make time before I start coding to really think about how the data relates to each other and potential issues that it could present. "
   ]
  },
  {
   "cell_type": "markdown",
   "metadata": {},
   "source": []
  }
 ],
 "metadata": {
  "kernelspec": {
   "display_name": "Python 3.9.7 ('base')",
   "language": "python",
   "name": "python3"
  },
  "language_info": {
   "codemirror_mode": {
    "name": "ipython",
    "version": 3
   },
   "file_extension": ".py",
   "mimetype": "text/x-python",
   "name": "python",
   "nbconvert_exporter": "python",
   "pygments_lexer": "ipython3",
   "version": "3.9.7"
  },
  "orig_nbformat": 4,
  "vscode": {
   "interpreter": {
    "hash": "cbb3f9658bbc6c5d5fd9a3f874ab1434d4f87aab3ee8ee847dcc43901ac736f8"
   }
  }
 },
 "nbformat": 4,
 "nbformat_minor": 2
}
