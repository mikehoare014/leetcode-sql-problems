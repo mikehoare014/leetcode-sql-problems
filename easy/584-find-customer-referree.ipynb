{
 "cells": [
  {
   "cell_type": "markdown",
   "metadata": {},
   "source": [
    "# 584. Find Customer Referee\n",
    "Problem Link - https://leetcode.com/problems/find-customer-referee/"
   ]
  },
  {
   "cell_type": "code",
   "execution_count": null,
   "metadata": {
    "vscode": {
     "languageId": "sql"
    }
   },
   "outputs": [],
   "source": [
    "/* Write your T-SQL query statement below */\n",
    "SELECT name\n",
    "FROM customer\n",
    "WHERE referee_id <> 2\n",
    "    OR referee_id IS NULL"
   ]
  },
  {
   "cell_type": "markdown",
   "metadata": {},
   "source": [
    "## Takeaway\n",
    "When filtering rows with the `where` statement, `null values` are automatically removed. To include `null` values in the result set, the user has to add the `IS NULL` condition. \n",
    "\n",
    "This is because SQL Server uses a three-valued logic system, `TRUE`, `FALSE`, and `UNKNOWN`. Anything compared to `NULL` evaluates to the third value: `UNKNOWN`. That’s why SQL Server provides the `IS NULL` and `IS NOT NULL` operators to specifically check for `NULL`.\n",
    "\n",
    "Thus, one more condition 'referee_id IS NULL' should be added to the `WHERE` clause."
   ]
  },
  {
   "cell_type": "markdown",
   "metadata": {},
   "source": []
  }
 ],
 "metadata": {
  "kernelspec": {
   "display_name": "Python 3.9.7 ('base')",
   "language": "python",
   "name": "python3"
  },
  "language_info": {
   "codemirror_mode": {
    "name": "ipython",
    "version": 3
   },
   "file_extension": ".py",
   "mimetype": "text/x-python",
   "name": "python",
   "nbconvert_exporter": "python",
   "pygments_lexer": "ipython3",
   "version": "3.9.7"
  },
  "orig_nbformat": 4,
  "vscode": {
   "interpreter": {
    "hash": "cbb3f9658bbc6c5d5fd9a3f874ab1434d4f87aab3ee8ee847dcc43901ac736f8"
   }
  }
 },
 "nbformat": 4,
 "nbformat_minor": 2
}
