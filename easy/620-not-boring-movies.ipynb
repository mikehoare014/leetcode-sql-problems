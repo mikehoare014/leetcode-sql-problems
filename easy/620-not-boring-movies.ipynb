{
 "cells": [
  {
   "cell_type": "markdown",
   "metadata": {},
   "source": [
    "# 620. Not Boring Movies\n",
    "\n",
    "Leetcode Problem Link - https: // leetcode.com/problems/not-boring-movies/\n",
    "\n",
    "__Solution:__ \n"
   ]
  },
  {
   "cell_type": "code",
   "execution_count": null,
   "metadata": {
    "vscode": {
     "languageId": "sql"
    }
   },
   "outputs": [],
   "source": [
    "-- Oracle\n",
    "SELECT *\n",
    "FROM cinema\n",
    "WHERE MOD(id, 2) <> 0\n",
    "AND description NOT LIKE 'boring'\n",
    "ORDER BY rating DESC\n",
    "\n",
    "-- Sql Server\n",
    "SELECT *\n",
    "FROM cinema\n",
    "WHERE id % 2 <> 0\n",
    "AND description NOT LIKE 'boring'\n",
    "ORDER BY rating DESC;\n",
    "\n",
    "-- MySQL\n",
    "SELECT *\n",
    "FROM cinema\n",
    "WHERE Mod(id, 2) % 2 <> 0\n",
    "AND description NOT LIKE 'boring'\n",
    "ORDER BY rating DESC;"
   ]
  },
  {
   "cell_type": "markdown",
   "metadata": {},
   "source": [
    "## Explantation:\n",
    "This problem was pretty straightforward with two `where` statements and an `order by.` One noteworthy thing to mention is that the modulo operator differs betweenn sql engines. In Oracle and MySQL it is a function, while SQL Serve is `%.`"
   ]
  },
  {
   "cell_type": "markdown",
   "metadata": {},
   "source": []
  }
 ],
 "metadata": {
  "kernelspec": {
   "display_name": "Python 3.9.7 ('base')",
   "language": "python",
   "name": "python3"
  },
  "language_info": {
   "codemirror_mode": {
    "name": "ipython",
    "version": 3
   },
   "file_extension": ".py",
   "mimetype": "text/x-python",
   "name": "python",
   "nbconvert_exporter": "python",
   "pygments_lexer": "ipython3",
   "version": "3.9.7"
  },
  "orig_nbformat": 4,
  "vscode": {
   "interpreter": {
    "hash": "cbb3f9658bbc6c5d5fd9a3f874ab1434d4f87aab3ee8ee847dcc43901ac736f8"
   }
  }
 },
 "nbformat": 4,
 "nbformat_minor": 2
}
